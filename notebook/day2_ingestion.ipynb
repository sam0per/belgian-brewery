{
 "cells": [
  {
   "cell_type": "markdown",
   "id": "b7deedbe",
   "metadata": {},
   "source": [
    "# Day 2: Data Ingestion & Extraction\n",
    "### Belgian Brewery Portfolio – Glide Data Analyst Role\n",
    "**Objective**: Use Python to ingest raw data from:\n",
    "- [BeerAdvocate](https://www.beeradvocate.com/beer/top-rated/) for beer ratings\n",
    "- Downloadable CSV datasets on Kaggle\n",
    "- [belgenbier.be](https://www.belgenbier.be/brouwerijen/brouwerijen.php) for breweries by province and beer info such as name, style, and alcohol content.\n",
    "\n",
    "Clean and normalize the data, and export foundational CSV files for later upload to Google BigQuery.\n",
    "This aligns with Glide's requirements: Python scripting, `requests`, `BeautifulSoup`, and clean data warehousing."
   ]
  }
 ],
 "metadata": {
  "kernelspec": {
   "display_name": "bebrew-py312",
   "language": "python",
   "name": "python3"
  },
  "language_info": {
   "codemirror_mode": {
    "name": "ipython",
    "version": 3
   },
   "file_extension": ".py",
   "mimetype": "text/x-python",
   "name": "python",
   "nbconvert_exporter": "python",
   "pygments_lexer": "ipython3",
   "version": "3.12.11"
  }
 },
 "nbformat": 4,
 "nbformat_minor": 5
}
