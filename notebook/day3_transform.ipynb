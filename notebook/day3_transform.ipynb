{
 "cells": [
  {
   "cell_type": "markdown",
   "id": "b7deedbe",
   "metadata": {},
   "source": [
    "# Day 3: Data Transformation\n",
    "### Belgian Brewery Portfolio – Glide Data Analyst Role\n",
    "**Objective**: Transform the ingested data into a structured format suitable for analysis and visualization.\n",
    "\n",
    "**Task**:  \n",
    "1. Translate French and Dutch names (e.g., beer styles, brewery names) into English.\n",
    "2. Clean and normalize the data (e.g., remove duplicates, handle missing values).\n",
    "3. Find geographic information of breweries (e.g., latitude, longitude, address).\n",
    "4. Store the transformed data in Google Cloud Storage or BigQuery for further analysis."
   ]
  },
  {
   "cell_type": "code",
   "execution_count": null,
   "id": "60c17576",
   "metadata": {},
   "outputs": [],
   "source": [
    "# Read the file data/raw/wiki_be_beers_breweries_provinces.csv\n",
    "# and print the first few rows with tabulate.\n",
    "import pandas as pd\n",
    "from tabulate import tabulate\n",
    "from pathlib import Path\n",
    "\n",
    "# Define the root directory of the project\n",
    "ROOT_DIR = Path.cwd().parent\n",
    "\n",
    "# Read the file data/raw/wiki_be_beers_breweries_provinces.csv\n",
    "df = pd.read_csv(ROOT_DIR / \"data/raw/wiki_be_beers_breweries_provinces.csv\")\n",
    "\n",
    "# Print the first few rows with tabulate\n",
    "print(tabulate(df.head(), headers='keys', tablefmt='github', showindex=False)) # type: ignore"
   ]
  },
  {
   "cell_type": "code",
   "execution_count": null,
   "id": "785c1b49",
   "metadata": {},
   "outputs": [],
   "source": [
    "# Get the unique values in the \"style_name\" column\n",
    "unique_styles = df[\"style_name\"].unique()\n",
    "\n",
    "# Only keep non-null and string values, then split by \",\" to handle multiple styles\n",
    "unique_styles = set()\n",
    "for style in df[\"style_name\"].dropna():\n",
    "    styles = style.split(\",\")\n",
    "    for s in styles:\n",
    "        unique_styles.add(s.strip())\n",
    "\n",
    "# Remove any empty strings, strings that are only \"?\", or strings with length 1\n",
    "unique_styles = {s for s in unique_styles if s and s != \"?\" and len(s) > 1}\n",
    "\n",
    "# Sort the unique styles for better readability\n",
    "unique_styles = sorted(unique_styles)\n",
    "\n",
    "# Print the count and the first 5 unique styles\n",
    "print(f\"Total unique styles: {len(unique_styles)}\")\n",
    "print(\"First 5 unique styles:\")\n",
    "print(unique_styles[:5])"
   ]
  },
  {
   "cell_type": "code",
   "execution_count": null,
   "id": "ae51484c",
   "metadata": {},
   "outputs": [],
   "source": [
    "# Read the file with brewery addresses\n",
    "brewery_addresses = pd.read_csv(ROOT_DIR / \"data/clean/wiki_be_brewery_addresses.csv\")\n",
    "\n",
    "# Display the first few rows of the brewery addresses with tabulate\n",
    "print(tabulate(brewery_addresses.head(), headers='keys', tablefmt='github', showindex=False))  # type: ignore"
   ]
  },
  {
   "cell_type": "code",
   "execution_count": null,
   "id": "3f3bd921",
   "metadata": {},
   "outputs": [],
   "source": [
    "# Write to a new file the brewery names without a full_address\n",
    "brewery_names_without_address = brewery_addresses[brewery_addresses['full_address'].isnull()]['brewery_name']\n",
    "brewery_names_without_address.to_csv(ROOT_DIR / \"data/raw/brewery_names_without_address.csv\", index=False)\n",
    "print(f\"Brewery names without address saved to {ROOT_DIR / 'data/raw/brewery_names_without_address.csv'}\")"
   ]
  }
 ],
 "metadata": {
  "kernelspec": {
   "display_name": "bebrew-py312",
   "language": "python",
   "name": "python3"
  },
  "language_info": {
   "codemirror_mode": {
    "name": "ipython",
    "version": 3
   },
   "file_extension": ".py",
   "mimetype": "text/x-python",
   "name": "python",
   "nbconvert_exporter": "python",
   "pygments_lexer": "ipython3",
   "version": "3.12.11"
  }
 },
 "nbformat": 4,
 "nbformat_minor": 5
}
